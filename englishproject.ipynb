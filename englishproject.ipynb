{
 "cells": [
  {
   "cell_type": "markdown",
   "metadata": {},
   "source": [
    "## Impact of a Pandemic on Cycling through an Individual Case Study\n",
    "### Subject: Mason Allen Observer: Mason Allen\n",
    "In the year of 2020, the COVID-19 pandemic occurred.  As a result, numerous nations went into lockdown.  In the United States, public schools within the state of Virginia shutdown on March 13th, 2020.  As a result of this action, the daily lives of many were changed.  Among what was changed, sports for many high school students were affected dramatically, with many sports completely shutdown.  However, due to its solitary nature, cycling was not as heavily affected as other sports.  In addition, since cycling requires large amounts of time committment from the individual, theoretically cycling could thrive during the pandemic.  In this document, I will analyze the effects of the pandemic through on the metrics put out by a individual both in and out of shutdown to explore the impacts of the pandemic on cycling."
   ]
  },
  {
   "cell_type": "markdown",
   "metadata": {},
   "source": [
    "For those unfamiliar with Jupyter Notebooks, this is a text editor that combines both text and code.  Within this specific Jupyter Notebook, this document will be using the Python language in order to analyze the statistical data that has been collected.  The method of collection for this data is the social media site Strava.  On this site, the subject has continually uploaded the metrics of each ride they have recorded onto this public site."
   ]
  },
  {
   "cell_type": "code",
   "execution_count": 59,
   "metadata": {},
   "outputs": [],
   "source": [
    "import pandas as pd\n",
    "import matplotlib.pyplot as plt"
   ]
  },
  {
   "cell_type": "markdown",
   "metadata": {},
   "source": [
    "Above, this code imports the modules that will be used for my statistical analysis.  Pandas will be used to read a CSV file that the data is on as well as extracting the neccessary portions of the data.  In addition, matplotlib will be used to plot the data graphically."
   ]
  },
  {
   "cell_type": "code",
   "execution_count": 60,
   "metadata": {},
   "outputs": [],
   "source": [
    "data = pd.read_csv('strava.csv')\n",
    "df = pd.DataFrame(data)"
   ]
  },
  {
   "cell_type": "markdown",
   "metadata": {},
   "source": [
    "Above, the pandas module is used to read the dataset and then to create a dataframe with it."
   ]
  },
  {
   "cell_type": "code",
   "execution_count": 61,
   "metadata": {
    "scrolled": true
   },
   "outputs": [
    {
     "data": {
      "text/plain": [
       "id                                  3432102368\n",
       "start_date                2020-05-10T17:49:20Z\n",
       "name                            Afternoon Ride\n",
       "distance                                  16.9\n",
       "moving_time                               6739\n",
       "type                                      Ride\n",
       "average_heartrate                            6\n",
       "max_heartrate                                7\n",
       "average_speed                                9\n",
       "max_speed                                 30.2\n",
       "total_elevation_gain                     205.4\n",
       "start_latlng            [38.068611,-78.708519]\n",
       "end_latlng              [38.064274,-78.682777]\n",
       "weather_icon                         clear-day\n",
       "weather_summary                          Clear\n",
       "weather_temperature                       62.2\n",
       "Name: 717, dtype: object"
      ]
     },
     "execution_count": 61,
     "metadata": {},
     "output_type": "execute_result"
    }
   ],
   "source": [
    "df.iloc[-1]"
   ]
  },
  {
   "cell_type": "markdown",
   "metadata": {},
   "source": [
    "Above is an example row of the dataset.  It includes data on one workout, which can in this case is either a bicycle ride, a run, or an unicycle ride.  In addition, it includes various other attributes of the ride."
   ]
  },
  {
   "cell_type": "code",
   "execution_count": 62,
   "metadata": {},
   "outputs": [
    {
     "data": {
      "text/plain": [
       "(718, 16)"
      ]
     },
     "execution_count": 62,
     "metadata": {},
     "output_type": "execute_result"
    }
   ],
   "source": [
    "df.shape"
   ]
  },
  {
   "cell_type": "markdown",
   "metadata": {},
   "source": [
    "Above are the dimensions of the dataset, which includes 718 rows and 16 columns."
   ]
  },
  {
   "cell_type": "markdown",
   "metadata": {},
   "source": [
    "Now that a general understanding of the datset is established, the specific time period of the quarantine, which in this case is 2020-03-13 to 2020-05-01, will be selected.  In addition, the time period of 2020 before the quarantine and the time of quarantine in the previous year will be selected.  These time periods will correspond to variables time1, time2, and time3 respectively."
   ]
  },
  {
   "cell_type": "code",
   "execution_count": 63,
   "metadata": {},
   "outputs": [],
   "source": [
    "time1 = df.iloc[679:-1, :]\n",
    "time2 = df.iloc[638:678, :]\n",
    "time3 = df.iloc[470:497, :]"
   ]
  },
  {
   "cell_type": "markdown",
   "metadata": {},
   "source": [
    "With these time periods, lets start with a rudimentary comparison.  Below, you will see the total amount of distance and time collectively of all the entries for each time period."
   ]
  },
  {
   "cell_type": "code",
   "execution_count": 64,
   "metadata": {},
   "outputs": [
    {
     "name": "stdout",
     "output_type": "stream",
     "text": [
      "Time1 total distance: 723.4 miles, Time1 total time: 74.4 hours\n",
      "Time2 total distance: 792.8 miles, Time2 total time: 66.9 hours\n",
      "Time3 total distance: 525.9 miles, Time3 total time: 51.8 hours\n"
     ]
    },
    {
     "data": {
      "image/png": "[encoded data removed]",
      "text/plain": [
       "<Figure size 432x288 with 1 Axes>"
      ]
     },
     "metadata": {
      "needs_background": "light"
     },
     "output_type": "display_data"
    }
   ],
   "source": [
    "time1distance = round(time1.iloc[:,3].sum(), 1)\n",
    "time1time = round(time1.iloc[:,4].sum() / 3600, 1)\n",
    "time2distance = round(time2.iloc[:,3].sum(), 1)\n",
    "time2time = round(time2.iloc[:,4].sum() / 3600, 1)\n",
    "time3distance = round(time3.iloc[:,3].sum(), 1)\n",
    "time3time = round(time3.iloc[:,4].sum() / 3600, 1)\n",
    "\n",
    "print('Time1 total distance: {} miles, Time1 total time: {} hours'.format(time1distance, time1time))\n",
    "print('Time2 total distance: {} miles, Time2 total time: {} hours'.format(time2distance, time2time))\n",
    "print('Time3 total distance: {} miles, Time3 total time: {} hours'.format(time3distance, time3time))\n",
    "plt.bar(['Time1d', 'Time2d', 'Time3d'], [time1distance, time2distance, time3distance])\n",
    "plt.bar(['Time1t', 'Time2t', 'Time3t'], [time1time, time2time, time3time])\n",
    "plt.show()"
   ]
  },
  {
   "cell_type": "markdown",
   "metadata": {},
   "source": [
    "With the statistics above, one can observe several facts.  Firstly, the total amount of time and distance between both of the time periods in 2020 is significantly greater than the 2019 time period.  However, this is most likely unrelated to the quarantine and more so to overall improvement since this effect is observable in 2020 without the quarantine.  Given this, it is most likely going to be more informative to compare the to 2020 time periods, time1 and time2.  As seen above, time2 has a greater amount of miles than time1, but less total hours.  Therefore, time2 has a higher average speed.  However, there is still some flaws to this analysis, as these time periods do not neccessarily take up the same amount of time.  Because of this, it would be beneficial to compare the day average for time1 and time2."
   ]
  },
  {
   "cell_type": "code",
   "execution_count": 65,
   "metadata": {},
   "outputs": [
    {
     "name": "stdout",
     "output_type": "stream",
     "text": [
      "Time1 average per day:\n",
      "Distance: 9.04\n",
      "Time: 0.93\n",
      "Time2 average per day:\n",
      "Distance: 11.01\n",
      "Time: 0.93\n"
     ]
    },
    {
     "data": {
      "image/png": "[encoded data removed]",
      "text/plain": [
       "<Figure size 432x288 with 1 Axes>"
      ]
     },
     "metadata": {
      "needs_background": "light"
     },
     "output_type": "display_data"
    }
   ],
   "source": [
    "time1distanceda = round((time1distance / 80), 2)\n",
    "time1timeda = round((time1time / 80), 2)\n",
    "time2distanceda = round((time2distance / 72), 2)\n",
    "time2timeda = round((time2time / 72), 2)\n",
    "print('Time1 average per day:\\nDistance: {}\\nTime: {}'.format(time1distanceda, time1timeda))\n",
    "print('Time2 average per day:\\nDistance: {}\\nTime: {}'.format(time2distanceda, time2timeda))\n",
    "plt.bar(['Time1distance', 'Time2distance'], [time1distanceda, time2distanceda,])\n",
    "plt.bar(['Time1time', 'Time2time'], [time1timeda, time2timeda])\n",
    "plt.show()"
   ]
  },
  {
   "cell_type": "markdown",
   "metadata": {},
   "source": [
    "The numbers above show a more clear picture on the amount of cycling done during these periods.  During quarantine, the subject had the same amount of time on the bike as before quarantine during 2020.  However, the the average mileage per day was two miles lower during quarantine, resembling a significant decrease in overall speed.  There are several reasons that can inferred here for this drop.  Firstly, the quarantine occurred during what is normally the mountain biking race season.  This means that the quarantine was the cause of numerous cancellations of races.  Since the subject places importance in rankings at these races, the cancellations of the races may have caused a decrease in motivaition to train as the targetted races were cancelled.  In addition, group riding could be another cause of the drop.  In cycling, riding with other cyclists, especially those who are faster at the time, can create in an increase in motivation through trying to maintain the pace of other cyclists as well as outpacing the other cyclists.  In quarantine however, many group rides, such as the team practices in the case of the subject, were cancelled.  Therefore, the added motivation of riding with a group is removed."
   ]
  },
  {
   "cell_type": "markdown",
   "metadata": {},
   "source": [
    "In conclusion, while theoretically one may have more time to train for cycling during the quarantine and therefore ride for more mileage and time, other factors that are also a result of the quarantine may cause this to not be what necessarily happens for cyclists such as the subject."
   ]
  }
 ],
 "metadata": {
  "kernelspec": {
   "display_name": "Python 3",
   "language": "python",
   "name": "python3"
  },
  "language_info": {
   "codemirror_mode": {
    "name": "ipython",
    "version": 3
   },
   "file_extension": ".py",
   "mimetype": "text/x-python",
   "name": "python",
   "nbconvert_exporter": "python",
   "pygments_lexer": "ipython3",
   "version": "3.7.6"
  }
 },
 "nbformat": 4,
 "nbformat_minor": 4
}
